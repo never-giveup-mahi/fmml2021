{
  "nbformat": 4,
  "nbformat_minor": 0,
  "metadata": {
    "colab": {
      "name": "07_Defining_Functions.ipynb",
      "provenance": [],
      "include_colab_link": true
    },
    "kernelspec": {
      "name": "python3",
      "display_name": "Python 3"
    },
    "language_info": {
      "name": "python"
    }
  },
  "cells": [
    {
      "cell_type": "markdown",
      "metadata": {
        "id": "view-in-github",
        "colab_type": "text"
      },
      "source": [
        "<a href=\"https://colab.research.google.com/github/never-giveup-mahi/fmml2021/blob/main/07_Defining_Functions.ipynb\" target=\"_parent\"><img src=\"https://colab.research.google.com/assets/colab-badge.svg\" alt=\"Open In Colab\"/></a>"
      ]
    },
    {
      "cell_type": "code",
      "metadata": {
        "id": "HuEq7hPVfs8D"
      },
      "source": [
        "#Function to find the factorial of a number\n",
        "\n",
        "def fact(num):\n",
        "  if (num == 0) or (num == 1):\n",
        "    return 1\n",
        "  return num*fact(num-1)"
      ],
      "execution_count": 10,
      "outputs": []
    },
    {
      "cell_type": "code",
      "metadata": {
        "id": "d-l02PfXgtH4",
        "outputId": "eb57bddd-ef4f-43ad-f704-8282ef8a13ce",
        "colab": {
          "base_uri": "https://localhost:8080/"
        }
      },
      "source": [
        "fact(10)"
      ],
      "execution_count": 11,
      "outputs": [
        {
          "output_type": "execute_result",
          "data": {
            "text/plain": [
              "3628800"
            ]
          },
          "metadata": {},
          "execution_count": 11
        }
      ]
    },
    {
      "cell_type": "code",
      "metadata": {
        "id": "4szyFlgQg4vA",
        "outputId": "ed882b28-1e05-4c66-e988-b86b1cf15240",
        "colab": {
          "base_uri": "https://localhost:8080/"
        }
      },
      "source": [
        "#Function to check a character is vowel or not\n",
        "def isvowel(char,list=['a','e','i','o','u']):\n",
        "  if char.lower() in list :\n",
        "    return True\n",
        "  return False\n",
        "isvowel('Z')"
      ],
      "execution_count": 39,
      "outputs": [
        {
          "output_type": "execute_result",
          "data": {
            "text/plain": [
              "False"
            ]
          },
          "metadata": {},
          "execution_count": 39
        }
      ]
    },
    {
      "cell_type": "code",
      "metadata": {
        "id": "6g66QesBiUNA"
      },
      "source": [
        "#Function to find the length of string without len() function\n",
        "\n",
        "def length(string):\n",
        "  lenth=0\n",
        "  for each_char in string:\n",
        "    lenth+=1\n",
        "  return lenth"
      ],
      "execution_count": 70,
      "outputs": []
    },
    {
      "cell_type": "code",
      "metadata": {
        "id": "D_4P6f1empaN",
        "outputId": "bea641db-cdfd-46d0-bad4-b87b58e99bfb",
        "colab": {
          "base_uri": "https://localhost:8080/"
        }
      },
      "source": [
        "length('Mahendra')"
      ],
      "execution_count": 71,
      "outputs": [
        {
          "output_type": "execute_result",
          "data": {
            "text/plain": [
              "8"
            ]
          },
          "metadata": {},
          "execution_count": 71
        }
      ]
    },
    {
      "cell_type": "code",
      "metadata": {
        "id": "r_KUNOW3rCc6"
      },
      "source": [
        "# Write a function to check whether a given number belongs to fibonacci series or not"
      ],
      "execution_count": null,
      "outputs": []
    },
    {
      "cell_type": "code",
      "metadata": {
        "id": "5WaWv0lzrAZl"
      },
      "source": [
        ""
      ],
      "execution_count": null,
      "outputs": []
    },
    {
      "cell_type": "markdown",
      "metadata": {
        "id": "3hfExC9BPkKK"
      },
      "source": [
        "Reference: [Python Documentation on Functions](https://docs.python.org/3/tutorial/controlflow.html#defining-functions)"
      ]
    }
  ]
}
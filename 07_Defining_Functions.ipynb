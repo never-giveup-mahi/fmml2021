{
  "nbformat": 4,
  "nbformat_minor": 0,
  "metadata": {
    "colab": {
      "name": "07_Defining_Functions.ipynb",
      "provenance": [],
      "include_colab_link": true
    },
    "kernelspec": {
      "name": "python3",
      "display_name": "Python 3"
    },
    "language_info": {
      "name": "python"
    }
  },
  "cells": [
    {
      "cell_type": "markdown",
      "metadata": {
        "id": "view-in-github",
        "colab_type": "text"
      },
      "source": [
        "<a href=\"https://colab.research.google.com/github/never-giveup-mahi/fmml2021/blob/main/07_Defining_Functions.ipynb\" target=\"_parent\"><img src=\"https://colab.research.google.com/assets/colab-badge.svg\" alt=\"Open In Colab\"/></a>"
      ]
    },
    {
      "cell_type": "code",
      "metadata": {
        "id": "HuEq7hPVfs8D"
      },
      "source": [
        "#Function to find the factorial of a number\n",
        "\n",
        "def fact(num):\n",
        "  if (num == 0) or (num == 1):\n",
        "    return 1\n",
        "  return num*fact(num-1)"
      ],
      "execution_count": null,
      "outputs": []
    },
    {
      "cell_type": "code",
      "metadata": {
        "id": "d-l02PfXgtH4",
        "colab": {
          "base_uri": "https://localhost:8080/"
        },
        "outputId": "eb57bddd-ef4f-43ad-f704-8282ef8a13ce"
      },
      "source": [
        "fact(10)"
      ],
      "execution_count": null,
      "outputs": [
        {
          "output_type": "execute_result",
          "data": {
            "text/plain": [
              "3628800"
            ]
          },
          "metadata": {},
          "execution_count": 11
        }
      ]
    },
    {
      "cell_type": "code",
      "metadata": {
        "id": "4szyFlgQg4vA",
        "colab": {
          "base_uri": "https://localhost:8080/"
        },
        "outputId": "ed882b28-1e05-4c66-e988-b86b1cf15240"
      },
      "source": [
        "#Function to check a character is vowel or not\n",
        "def isvowel(char,list=['a','e','i','o','u']):\n",
        "  if char.lower() in list :\n",
        "    return True\n",
        "  return False\n",
        "isvowel('Z')"
      ],
      "execution_count": null,
      "outputs": [
        {
          "output_type": "execute_result",
          "data": {
            "text/plain": [
              "False"
            ]
          },
          "metadata": {},
          "execution_count": 39
        }
      ]
    },
    {
      "cell_type": "code",
      "metadata": {
        "id": "6g66QesBiUNA"
      },
      "source": [
        "#Function to find the length of string without len() function\n",
        "\n",
        "def length(string):\n",
        "  lenth=0\n",
        "  for each_char in string:\n",
        "    lenth+=1\n",
        "  return lenth"
      ],
      "execution_count": null,
      "outputs": []
    },
    {
      "cell_type": "code",
      "metadata": {
        "id": "D_4P6f1empaN",
        "colab": {
          "base_uri": "https://localhost:8080/"
        },
        "outputId": "bea641db-cdfd-46d0-bad4-b87b58e99bfb"
      },
      "source": [
        "length('Mahendra')"
      ],
      "execution_count": null,
      "outputs": [
        {
          "output_type": "execute_result",
          "data": {
            "text/plain": [
              "8"
            ]
          },
          "metadata": {},
          "execution_count": 71
        }
      ]
    },
    {
      "cell_type": "code",
      "metadata": {
        "id": "r_KUNOW3rCc6"
      },
      "source": [
        "# Write a function to check whether a given number belongs to fibonacci series or not"
      ],
      "execution_count": null,
      "outputs": []
    },
    {
      "cell_type": "code",
      "metadata": {
        "id": "5WaWv0lzrAZl",
        "outputId": "1697aa5a-b629-4e72-fa8c-0a31d230cab9",
        "colab": {
          "base_uri": "https://localhost:8080/"
        }
      },
      "source": [
        "def fib(num):\n",
        "  a = 0\n",
        "  b = 1\n",
        "  while(a < num and b < num):\n",
        "    a = a + b\n",
        "    b = a + b\n",
        "  if(a==num or b==num):\n",
        "    return True\n",
        "  else:\n",
        "    return False\n",
        "a = int(input(\"Enter a number to check belongs to fibonacci series or not : \"))\n",
        "fib(a)"
      ],
      "execution_count": 27,
      "outputs": [
        {
          "name": "stdout",
          "output_type": "stream",
          "text": [
            "Enter a number to check belongs to fibonacci series or not : 5\n"
          ]
        },
        {
          "output_type": "execute_result",
          "data": {
            "text/plain": [
              "True"
            ]
          },
          "metadata": {},
          "execution_count": 27
        }
      ]
    },
    {
      "cell_type": "code",
      "metadata": {
        "id": "G94vyDRZFSRJ",
        "outputId": "800f7376-b52c-4267-8b3c-7288a8ee74c5",
        "colab": {
          "base_uri": "https://localhost:8080/"
        }
      },
      "source": [
        "#Function to print Fibonacci series upto 'n'\n",
        "\n",
        "def fibonacci(n):\n",
        "  a = 0\n",
        "  b = 1\n",
        "  while(b < n):\n",
        "     print(a,b,end=\" \")\n",
        "     a=a+b\n",
        "     b=a+b\n",
        "fibonacci(100)"
      ],
      "execution_count": 44,
      "outputs": [
        {
          "output_type": "stream",
          "name": "stdout",
          "text": [
            "0 1 1 2 3 5 8 13 21 34 55 89 "
          ]
        }
      ]
    },
    {
      "cell_type": "markdown",
      "metadata": {
        "id": "3hfExC9BPkKK"
      },
      "source": [
        "Reference: [Python Documentation on Functions](https://docs.python.org/3/tutorial/controlflow.html#defining-functions)"
      ]
    }
  ]
}